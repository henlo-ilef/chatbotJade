{
 "cells": [
  {
   "cell_type": "code",
   "execution_count": 1,
   "id": "626e10da-c1a8-428c-ad95-93c86f1ea0e1",
   "metadata": {},
   "outputs": [
    {
     "name": "stdout",
     "output_type": "stream",
     "text": [
      "Collecting langchain\n",
      "  Using cached langchain-0.1.13-py3-none-any.whl (810 kB)\n",
      "Requirement already satisfied: PyYAML>=5.3 in c:\\users\\henloilef\\anaconda3\\lib\\site-packages (from langchain) (6.0.1)\n",
      "Requirement already satisfied: SQLAlchemy<3,>=1.4 in c:\\users\\henloilef\\anaconda3\\lib\\site-packages (from langchain) (2.0.25)\n",
      "Requirement already satisfied: aiohttp<4.0.0,>=3.8.3 in c:\\users\\henloilef\\appdata\\roaming\\python\\python311\\site-packages (from langchain) (3.9.3)\n",
      "Requirement already satisfied: dataclasses-json<0.7,>=0.5.7 in c:\\users\\henloilef\\appdata\\roaming\\python\\python311\\site-packages (from langchain) (0.6.4)\n",
      "Requirement already satisfied: jsonpatch<2.0,>=1.33 in c:\\users\\henloilef\\appdata\\roaming\\python\\python311\\site-packages (from langchain) (1.33)\n",
      "Collecting langchain-community<0.1,>=0.0.29 (from langchain)\n",
      "  Using cached langchain_community-0.0.29-py3-none-any.whl (1.8 MB)\n",
      "Collecting langchain-core<0.2.0,>=0.1.33 (from langchain)\n",
      "  Using cached langchain_core-0.1.33-py3-none-any.whl (269 kB)\n",
      "Collecting langchain-text-splitters<0.1,>=0.0.1 (from langchain)\n",
      "  Using cached langchain_text_splitters-0.0.1-py3-none-any.whl (21 kB)\n",
      "Collecting langsmith<0.2.0,>=0.1.17 (from langchain)\n",
      "  Using cached langsmith-0.1.31-py3-none-any.whl (71 kB)\n",
      "Requirement already satisfied: numpy<2,>=1 in c:\\users\\henloilef\\anaconda3\\lib\\site-packages (from langchain) (1.26.4)\n",
      "Requirement already satisfied: pydantic<3,>=1 in c:\\users\\henloilef\\anaconda3\\lib\\site-packages (from langchain) (1.10.12)\n",
      "Requirement already satisfied: requests<3,>=2 in c:\\users\\henloilef\\appdata\\roaming\\python\\python311\\site-packages (from langchain) (2.31.0)\n",
      "Requirement already satisfied: tenacity<9.0.0,>=8.1.0 in c:\\users\\henloilef\\anaconda3\\lib\\site-packages (from langchain) (8.2.2)\n",
      "Requirement already satisfied: aiosignal>=1.1.2 in c:\\users\\henloilef\\appdata\\roaming\\python\\python311\\site-packages (from aiohttp<4.0.0,>=3.8.3->langchain) (1.3.1)\n",
      "Requirement already satisfied: attrs>=17.3.0 in c:\\users\\henloilef\\anaconda3\\lib\\site-packages (from aiohttp<4.0.0,>=3.8.3->langchain) (23.1.0)\n",
      "Requirement already satisfied: frozenlist>=1.1.1 in c:\\users\\henloilef\\appdata\\roaming\\python\\python311\\site-packages (from aiohttp<4.0.0,>=3.8.3->langchain) (1.4.1)\n",
      "Requirement already satisfied: multidict<7.0,>=4.5 in c:\\users\\henloilef\\anaconda3\\lib\\site-packages (from aiohttp<4.0.0,>=3.8.3->langchain) (6.0.4)\n",
      "Requirement already satisfied: yarl<2.0,>=1.0 in c:\\users\\henloilef\\appdata\\roaming\\python\\python311\\site-packages (from aiohttp<4.0.0,>=3.8.3->langchain) (1.9.4)\n",
      "Requirement already satisfied: marshmallow<4.0.0,>=3.18.0 in c:\\users\\henloilef\\appdata\\roaming\\python\\python311\\site-packages (from dataclasses-json<0.7,>=0.5.7->langchain) (3.20.2)\n",
      "Requirement already satisfied: typing-inspect<1,>=0.4.0 in c:\\users\\henloilef\\appdata\\roaming\\python\\python311\\site-packages (from dataclasses-json<0.7,>=0.5.7->langchain) (0.9.0)\n",
      "Requirement already satisfied: jsonpointer>=1.9 in c:\\users\\henloilef\\anaconda3\\lib\\site-packages (from jsonpatch<2.0,>=1.33->langchain) (2.1)\n",
      "Requirement already satisfied: anyio<5,>=3 in c:\\users\\henloilef\\anaconda3\\lib\\site-packages (from langchain-core<0.2.0,>=0.1.33->langchain) (4.2.0)\n",
      "Requirement already satisfied: packaging<24.0,>=23.2 in c:\\users\\henloilef\\anaconda3\\lib\\site-packages (from langchain-core<0.2.0,>=0.1.33->langchain) (23.2)\n",
      "Collecting orjson<4.0.0,>=3.9.14 (from langsmith<0.2.0,>=0.1.17->langchain)\n",
      "  Using cached orjson-3.9.15-cp311-none-win_amd64.whl (136 kB)\n",
      "Requirement already satisfied: typing-extensions>=4.2.0 in c:\\users\\henloilef\\anaconda3\\lib\\site-packages (from pydantic<3,>=1->langchain) (4.9.0)\n",
      "Requirement already satisfied: charset-normalizer<4,>=2 in c:\\users\\henloilef\\anaconda3\\lib\\site-packages (from requests<3,>=2->langchain) (3.3.2)\n",
      "Requirement already satisfied: idna<4,>=2.5 in c:\\users\\henloilef\\anaconda3\\lib\\site-packages (from requests<3,>=2->langchain) (3.6)\n",
      "Requirement already satisfied: urllib3<3,>=1.21.1 in c:\\users\\henloilef\\anaconda3\\lib\\site-packages (from requests<3,>=2->langchain) (1.26.18)\n",
      "Requirement already satisfied: certifi>=2017.4.17 in c:\\users\\henloilef\\anaconda3\\lib\\site-packages (from requests<3,>=2->langchain) (2024.2.2)\n",
      "Requirement already satisfied: greenlet!=0.4.17 in c:\\users\\henloilef\\anaconda3\\lib\\site-packages (from SQLAlchemy<3,>=1.4->langchain) (3.0.1)\n",
      "Requirement already satisfied: sniffio>=1.1 in c:\\users\\henloilef\\anaconda3\\lib\\site-packages (from anyio<5,>=3->langchain-core<0.2.0,>=0.1.33->langchain) (1.3.0)\n",
      "Requirement already satisfied: mypy-extensions>=0.3.0 in c:\\users\\henloilef\\anaconda3\\lib\\site-packages (from typing-inspect<1,>=0.4.0->dataclasses-json<0.7,>=0.5.7->langchain) (1.0.0)\n",
      "Installing collected packages: orjson, langsmith, langchain-core, langchain-text-splitters, langchain-community, langchain\n",
      "Successfully installed langchain-0.1.13 langchain-community-0.0.29 langchain-core-0.1.33 langchain-text-splitters-0.0.1 langsmith-0.1.31 orjson-3.9.15\n",
      "Note: you may need to restart the kernel to use updated packages.\n"
     ]
    },
    {
     "name": "stderr",
     "output_type": "stream",
     "text": [
      "\n",
      "[notice] A new release of pip is available: 23.1.2 -> 24.0\n",
      "[notice] To update, run: C:\\Users\\henloIlef\\anaconda3\\python.exe -m pip install --upgrade pip\n"
     ]
    }
   ],
   "source": [
    "pip install --upgrade langchain"
   ]
  },
  {
   "cell_type": "code",
   "execution_count": 2,
   "id": "aeb7df02-9d78-4857-a52e-38eee627f621",
   "metadata": {},
   "outputs": [
    {
     "name": "stdout",
     "output_type": "stream",
     "text": [
      "Name: langchain\n",
      "Version: 0.1.13\n",
      "Summary: Building applications with LLMs through composability\n",
      "Home-page: https://github.com/langchain-ai/langchain\n",
      "Author: \n",
      "Author-email: \n",
      "License: MIT\n",
      "Location: C:\\Users\\henloIlef\\anaconda3\\Lib\\site-packages\n",
      "Requires: aiohttp, dataclasses-json, jsonpatch, langchain-community, langchain-core, langchain-text-splitters, langsmith, numpy, pydantic, PyYAML, requests, SQLAlchemy, tenacity\n",
      "Required-by: \n",
      "Note: you may need to restart the kernel to use updated packages.\n"
     ]
    }
   ],
   "source": [
    "pip show langchain"
   ]
  },
  {
   "cell_type": "code",
   "execution_count": 3,
   "id": "9e21859f-3499-4dbf-92fa-ab44d918107b",
   "metadata": {},
   "outputs": [
    {
     "name": "stderr",
     "output_type": "stream",
     "text": [
      "\n",
      "[notice] A new release of pip is available: 23.1.2 -> 24.0\n",
      "[notice] To update, run: python.exe -m pip install --upgrade pip\n"
     ]
    }
   ],
   "source": [
    "!pip install --upgrade --quiet faiss-cpu tiktoken"
   ]
  },
  {
   "cell_type": "code",
   "execution_count": 4,
   "id": "6c848e84-22f4-4b7e-8dff-6c8a53b8f5a8",
   "metadata": {},
   "outputs": [
    {
     "name": "stdout",
     "output_type": "stream",
     "text": [
      "Requirement already satisfied: unstructured in c:\\users\\henloilef\\anaconda3\\lib\\site-packages (0.12.6)\n",
      "Requirement already satisfied: backoff==2.2.1 in c:\\users\\henloilef\\anaconda3\\lib\\site-packages (from unstructured) (2.2.1)\n",
      "Requirement already satisfied: beautifulsoup4==4.12.3 in c:\\users\\henloilef\\anaconda3\\lib\\site-packages (from unstructured) (4.12.3)\n",
      "Requirement already satisfied: certifi==2024.2.2 in c:\\users\\henloilef\\anaconda3\\lib\\site-packages (from unstructured) (2024.2.2)\n",
      "Requirement already satisfied: chardet==5.2.0 in c:\\users\\henloilef\\anaconda3\\lib\\site-packages (from unstructured) (5.2.0)\n",
      "Requirement already satisfied: charset-normalizer==3.3.2 in c:\\users\\henloilef\\anaconda3\\lib\\site-packages (from unstructured) (3.3.2)\n",
      "Requirement already satisfied: click==8.1.7 in c:\\users\\henloilef\\anaconda3\\lib\\site-packages (from unstructured) (8.1.7)\n",
      "Requirement already satisfied: dataclasses-json==0.6.4 in c:\\users\\henloilef\\appdata\\roaming\\python\\python311\\site-packages (from unstructured) (0.6.4)\n",
      "Requirement already satisfied: dataclasses-json-speakeasy==0.5.11 in c:\\users\\henloilef\\anaconda3\\lib\\site-packages (from unstructured) (0.5.11)\n",
      "Requirement already satisfied: emoji==2.10.1 in c:\\users\\henloilef\\anaconda3\\lib\\site-packages (from unstructured) (2.10.1)\n",
      "Requirement already satisfied: filetype==1.2.0 in c:\\users\\henloilef\\anaconda3\\lib\\site-packages (from unstructured) (1.2.0)\n",
      "Requirement already satisfied: idna==3.6 in c:\\users\\henloilef\\anaconda3\\lib\\site-packages (from unstructured) (3.6)\n",
      "Requirement already satisfied: joblib==1.3.2 in c:\\users\\henloilef\\anaconda3\\lib\\site-packages (from unstructured) (1.3.2)\n",
      "Requirement already satisfied: jsonpath-python==1.0.6 in c:\\users\\henloilef\\anaconda3\\lib\\site-packages (from unstructured) (1.0.6)\n",
      "Requirement already satisfied: langdetect==1.0.9 in c:\\users\\henloilef\\anaconda3\\lib\\site-packages (from unstructured) (1.0.9)\n",
      "Requirement already satisfied: lxml==5.1.0 in c:\\users\\henloilef\\anaconda3\\lib\\site-packages (from unstructured) (5.1.0)\n",
      "Requirement already satisfied: marshmallow==3.20.2 in c:\\users\\henloilef\\appdata\\roaming\\python\\python311\\site-packages (from unstructured) (3.20.2)\n",
      "Requirement already satisfied: mypy-extensions==1.0.0 in c:\\users\\henloilef\\anaconda3\\lib\\site-packages (from unstructured) (1.0.0)\n",
      "Requirement already satisfied: nltk==3.8.1 in c:\\users\\henloilef\\appdata\\roaming\\python\\python311\\site-packages (from unstructured) (3.8.1)\n",
      "Requirement already satisfied: numpy==1.26.4 in c:\\users\\henloilef\\anaconda3\\lib\\site-packages (from unstructured) (1.26.4)\n",
      "Requirement already satisfied: packaging==23.2 in c:\\users\\henloilef\\anaconda3\\lib\\site-packages (from unstructured) (23.2)\n",
      "Requirement already satisfied: python-dateutil==2.8.2 in c:\\users\\henloilef\\anaconda3\\lib\\site-packages (from unstructured) (2.8.2)\n",
      "Requirement already satisfied: python-iso639==2024.2.7 in c:\\users\\henloilef\\anaconda3\\lib\\site-packages (from unstructured) (2024.2.7)\n",
      "Requirement already satisfied: python-magic==0.4.27 in c:\\users\\henloilef\\anaconda3\\lib\\site-packages (from unstructured) (0.4.27)\n",
      "Requirement already satisfied: rapidfuzz==3.6.1 in c:\\users\\henloilef\\anaconda3\\lib\\site-packages (from unstructured) (3.6.1)\n",
      "Requirement already satisfied: regex==2023.12.25 in c:\\users\\henloilef\\anaconda3\\lib\\site-packages (from unstructured) (2023.12.25)\n",
      "Requirement already satisfied: requests==2.31.0 in c:\\users\\henloilef\\appdata\\roaming\\python\\python311\\site-packages (from unstructured) (2.31.0)\n",
      "Requirement already satisfied: six==1.16.0 in c:\\users\\henloilef\\anaconda3\\lib\\site-packages (from unstructured) (1.16.0)\n",
      "Requirement already satisfied: soupsieve==2.5 in c:\\users\\henloilef\\anaconda3\\lib\\site-packages (from unstructured) (2.5)\n",
      "Requirement already satisfied: tabulate==0.9.0 in c:\\users\\henloilef\\anaconda3\\lib\\site-packages (from unstructured) (0.9.0)\n",
      "Requirement already satisfied: tqdm==4.66.2 in c:\\users\\henloilef\\anaconda3\\lib\\site-packages (from unstructured) (4.66.2)\n",
      "Requirement already satisfied: typing-extensions==4.9.0 in c:\\users\\henloilef\\anaconda3\\lib\\site-packages (from unstructured) (4.9.0)\n",
      "Requirement already satisfied: typing-inspect==0.9.0 in c:\\users\\henloilef\\appdata\\roaming\\python\\python311\\site-packages (from unstructured) (0.9.0)\n",
      "Requirement already satisfied: unstructured-client==0.18.0 in c:\\users\\henloilef\\anaconda3\\lib\\site-packages (from unstructured) (0.18.0)\n",
      "Requirement already satisfied: urllib3==1.26.18 in c:\\users\\henloilef\\anaconda3\\lib\\site-packages (from unstructured) (1.26.18)\n",
      "Requirement already satisfied: wrapt==1.16.0 in c:\\users\\henloilef\\anaconda3\\lib\\site-packages (from unstructured) (1.16.0)\n",
      "Requirement already satisfied: colorama in c:\\users\\henloilef\\appdata\\roaming\\python\\python311\\site-packages (from click==8.1.7->unstructured) (0.4.6)\n",
      "Note: you may need to restart the kernel to use updated packages.\n"
     ]
    },
    {
     "name": "stderr",
     "output_type": "stream",
     "text": [
      "\n",
      "[notice] A new release of pip is available: 23.1.2 -> 24.0\n",
      "[notice] To update, run: C:\\Users\\henloIlef\\anaconda3\\python.exe -m pip install --upgrade pip\n"
     ]
    }
   ],
   "source": [
    "pip install unstructured"
   ]
  },
  {
   "cell_type": "code",
   "execution_count": 5,
   "id": "b66bf623-56a0-4ccf-b259-bed17170db26",
   "metadata": {},
   "outputs": [
    {
     "name": "stdout",
     "output_type": "stream",
     "text": [
      "Requirement already satisfied: unstructured[docx] in c:\\users\\henloilef\\anaconda3\\envs\\ilefpfe\\lib\\site-packages (0.12.6)\n",
      "Requirement already satisfied: backoff==2.2.1 in c:\\users\\henloilef\\anaconda3\\envs\\ilefpfe\\lib\\site-packages (from unstructured[docx]) (2.2.1)\n",
      "Requirement already satisfied: beautifulsoup4==4.12.3 in c:\\users\\henloilef\\anaconda3\\envs\\ilefpfe\\lib\\site-packages (from unstructured[docx]) (4.12.3)\n",
      "Requirement already satisfied: certifi==2024.2.2 in c:\\users\\henloilef\\anaconda3\\envs\\ilefpfe\\lib\\site-packages (from unstructured[docx]) (2024.2.2)\n",
      "Requirement already satisfied: chardet==5.2.0 in c:\\users\\henloilef\\anaconda3\\envs\\ilefpfe\\lib\\site-packages (from unstructured[docx]) (5.2.0)\n",
      "Requirement already satisfied: charset-normalizer==3.3.2 in c:\\users\\henloilef\\anaconda3\\envs\\ilefpfe\\lib\\site-packages (from unstructured[docx]) (3.3.2)\n",
      "Requirement already satisfied: click==8.1.7 in c:\\users\\henloilef\\anaconda3\\envs\\ilefpfe\\lib\\site-packages (from unstructured[docx]) (8.1.7)\n",
      "Requirement already satisfied: dataclasses-json==0.6.4 in c:\\users\\henloilef\\appdata\\roaming\\python\\python311\\site-packages (from unstructured[docx]) (0.6.4)\n",
      "Requirement already satisfied: dataclasses-json-speakeasy==0.5.11 in c:\\users\\henloilef\\anaconda3\\envs\\ilefpfe\\lib\\site-packages (from unstructured[docx]) (0.5.11)\n",
      "Requirement already satisfied: emoji==2.10.1 in c:\\users\\henloilef\\anaconda3\\envs\\ilefpfe\\lib\\site-packages (from unstructured[docx]) (2.10.1)\n",
      "Requirement already satisfied: filetype==1.2.0 in c:\\users\\henloilef\\anaconda3\\envs\\ilefpfe\\lib\\site-packages (from unstructured[docx]) (1.2.0)\n",
      "Requirement already satisfied: idna==3.6 in c:\\users\\henloilef\\anaconda3\\envs\\ilefpfe\\lib\\site-packages (from unstructured[docx]) (3.6)\n",
      "Requirement already satisfied: joblib==1.3.2 in c:\\users\\henloilef\\anaconda3\\envs\\ilefpfe\\lib\\site-packages (from unstructured[docx]) (1.3.2)\n",
      "Requirement already satisfied: jsonpath-python==1.0.6 in c:\\users\\henloilef\\anaconda3\\envs\\ilefpfe\\lib\\site-packages (from unstructured[docx]) (1.0.6)\n",
      "Requirement already satisfied: langdetect==1.0.9 in c:\\users\\henloilef\\anaconda3\\envs\\ilefpfe\\lib\\site-packages (from unstructured[docx]) (1.0.9)\n",
      "Requirement already satisfied: lxml==5.1.0 in c:\\users\\henloilef\\anaconda3\\envs\\ilefpfe\\lib\\site-packages (from unstructured[docx]) (5.1.0)\n",
      "Requirement already satisfied: marshmallow==3.20.2 in c:\\users\\henloilef\\appdata\\roaming\\python\\python311\\site-packages (from unstructured[docx]) (3.20.2)\n",
      "Requirement already satisfied: mypy-extensions==1.0.0 in c:\\users\\henloilef\\anaconda3\\envs\\ilefpfe\\lib\\site-packages (from unstructured[docx]) (1.0.0)\n",
      "Requirement already satisfied: nltk==3.8.1 in c:\\users\\henloilef\\appdata\\roaming\\python\\python311\\site-packages (from unstructured[docx]) (3.8.1)\n",
      "Requirement already satisfied: numpy==1.26.4 in c:\\users\\henloilef\\anaconda3\\envs\\ilefpfe\\lib\\site-packages (from unstructured[docx]) (1.26.4)\n",
      "Requirement already satisfied: packaging==23.2 in c:\\users\\henloilef\\anaconda3\\envs\\ilefpfe\\lib\\site-packages (from unstructured[docx]) (23.2)\n",
      "Requirement already satisfied: python-dateutil==2.8.2 in c:\\users\\henloilef\\anaconda3\\envs\\ilefpfe\\lib\\site-packages (from unstructured[docx]) (2.8.2)\n",
      "Requirement already satisfied: python-iso639==2024.2.7 in c:\\users\\henloilef\\anaconda3\\envs\\ilefpfe\\lib\\site-packages (from unstructured[docx]) (2024.2.7)\n",
      "Requirement already satisfied: python-magic==0.4.27 in c:\\users\\henloilef\\anaconda3\\envs\\ilefpfe\\lib\\site-packages (from unstructured[docx]) (0.4.27)\n",
      "Requirement already satisfied: rapidfuzz==3.6.1 in c:\\users\\henloilef\\anaconda3\\envs\\ilefpfe\\lib\\site-packages (from unstructured[docx]) (3.6.1)\n",
      "Requirement already satisfied: regex==2023.12.25 in c:\\users\\henloilef\\anaconda3\\envs\\ilefpfe\\lib\\site-packages (from unstructured[docx]) (2023.12.25)\n",
      "Requirement already satisfied: requests==2.31.0 in c:\\users\\henloilef\\appdata\\roaming\\python\\python311\\site-packages (from unstructured[docx]) (2.31.0)\n",
      "Requirement already satisfied: six==1.16.0 in c:\\users\\henloilef\\anaconda3\\envs\\ilefpfe\\lib\\site-packages (from unstructured[docx]) (1.16.0)\n",
      "Requirement already satisfied: soupsieve==2.5 in c:\\users\\henloilef\\anaconda3\\envs\\ilefpfe\\lib\\site-packages (from unstructured[docx]) (2.5)\n",
      "Requirement already satisfied: tabulate==0.9.0 in c:\\users\\henloilef\\anaconda3\\envs\\ilefpfe\\lib\\site-packages (from unstructured[docx]) (0.9.0)\n",
      "Requirement already satisfied: tqdm==4.66.2 in c:\\users\\henloilef\\anaconda3\\envs\\ilefpfe\\lib\\site-packages (from unstructured[docx]) (4.66.2)\n",
      "Requirement already satisfied: typing-extensions==4.9.0 in c:\\users\\henloilef\\anaconda3\\envs\\ilefpfe\\lib\\site-packages (from unstructured[docx]) (4.9.0)\n",
      "Requirement already satisfied: typing-inspect==0.9.0 in c:\\users\\henloilef\\appdata\\roaming\\python\\python311\\site-packages (from unstructured[docx]) (0.9.0)\n",
      "Requirement already satisfied: unstructured-client==0.18.0 in c:\\users\\henloilef\\anaconda3\\envs\\ilefpfe\\lib\\site-packages (from unstructured[docx]) (0.18.0)\n",
      "Requirement already satisfied: urllib3==1.26.18 in c:\\users\\henloilef\\anaconda3\\envs\\ilefpfe\\lib\\site-packages (from unstructured[docx]) (1.26.18)\n",
      "Requirement already satisfied: wrapt==1.16.0 in c:\\users\\henloilef\\anaconda3\\envs\\ilefpfe\\lib\\site-packages (from unstructured[docx]) (1.16.0)\n",
      "Requirement already satisfied: python-docx==1.1.0 in c:\\users\\henloilef\\anaconda3\\envs\\ilefpfe\\lib\\site-packages (from unstructured[docx]) (1.1.0)\n",
      "Requirement already satisfied: colorama in c:\\users\\henloilef\\appdata\\roaming\\python\\python311\\site-packages (from click==8.1.7->unstructured[docx]) (0.4.6)\n"
     ]
    },
    {
     "name": "stderr",
     "output_type": "stream",
     "text": [
      "\n",
      "[notice] A new release of pip is available: 23.1.2 -> 24.0\n",
      "[notice] To update, run: python.exe -m pip install --upgrade pip\n"
     ]
    }
   ],
   "source": [
    "!pip install unstructured[docx]"
   ]
  },
  {
   "cell_type": "code",
   "execution_count": 7,
   "id": "6c74ec3b-f358-4e7b-9413-0cd84c34208f",
   "metadata": {},
   "outputs": [
    {
     "name": "stdout",
     "output_type": "stream",
     "text": [
      "Collecting docx\n",
      "  Using cached docx-0.2.4-py3-none-any.whl\n",
      "Requirement already satisfied: lxml in c:\\users\\henloilef\\anaconda3\\lib\\site-packages (from docx) (5.1.0)\n",
      "Requirement already satisfied: Pillow>=2.0 in c:\\users\\henloilef\\anaconda3\\lib\\site-packages (from docx) (10.2.0)\n",
      "Installing collected packages: docx\n",
      "Successfully installed docx-0.2.4\n",
      "Note: you may need to restart the kernel to use updated packages.\n"
     ]
    },
    {
     "name": "stderr",
     "output_type": "stream",
     "text": [
      "\n",
      "[notice] A new release of pip is available: 23.1.2 -> 24.0\n",
      "[notice] To update, run: C:\\Users\\henloIlef\\anaconda3\\python.exe -m pip install --upgrade pip\n"
     ]
    }
   ],
   "source": [
    "pip install docx"
   ]
  },
  {
   "cell_type": "code",
   "execution_count": 9,
   "id": "6bd804ac-8f19-492e-b1b9-4659db438847",
   "metadata": {},
   "outputs": [
    {
     "name": "stdout",
     "output_type": "stream",
     "text": [
      "Requirement already satisfied: openai in c:\\users\\henloilef\\anaconda3\\envs\\ilefpfe\\lib\\site-packages (1.14.2)\n",
      "Requirement already satisfied: anyio<5,>=3.5.0 in c:\\users\\henloilef\\anaconda3\\envs\\ilefpfe\\lib\\site-packages (from openai) (4.3.0)\n",
      "Requirement already satisfied: distro<2,>=1.7.0 in c:\\users\\henloilef\\anaconda3\\envs\\ilefpfe\\lib\\site-packages (from openai) (1.9.0)\n",
      "Requirement already satisfied: httpx<1,>=0.23.0 in c:\\users\\henloilef\\appdata\\roaming\\python\\python311\\site-packages (from openai) (0.27.0)\n",
      "Requirement already satisfied: pydantic<3,>=1.9.0 in c:\\users\\henloilef\\anaconda3\\envs\\ilefpfe\\lib\\site-packages (from openai) (1.10.14)\n",
      "Requirement already satisfied: sniffio in c:\\users\\henloilef\\anaconda3\\envs\\ilefpfe\\lib\\site-packages (from openai) (1.3.1)\n",
      "Requirement already satisfied: tqdm>4 in c:\\users\\henloilef\\anaconda3\\envs\\ilefpfe\\lib\\site-packages (from openai) (4.66.2)\n",
      "Requirement already satisfied: typing-extensions<5,>=4.7 in c:\\users\\henloilef\\anaconda3\\envs\\ilefpfe\\lib\\site-packages (from openai) (4.9.0)\n",
      "Requirement already satisfied: idna>=2.8 in c:\\users\\henloilef\\anaconda3\\envs\\ilefpfe\\lib\\site-packages (from anyio<5,>=3.5.0->openai) (3.6)\n",
      "Requirement already satisfied: certifi in c:\\users\\henloilef\\anaconda3\\envs\\ilefpfe\\lib\\site-packages (from httpx<1,>=0.23.0->openai) (2024.2.2)\n",
      "Requirement already satisfied: httpcore==1.* in c:\\users\\henloilef\\appdata\\roaming\\python\\python311\\site-packages (from httpx<1,>=0.23.0->openai) (1.0.4)\n",
      "Requirement already satisfied: h11<0.15,>=0.13 in c:\\users\\henloilef\\anaconda3\\envs\\ilefpfe\\lib\\site-packages (from httpcore==1.*->httpx<1,>=0.23.0->openai) (0.14.0)\n",
      "Requirement already satisfied: colorama in c:\\users\\henloilef\\appdata\\roaming\\python\\python311\\site-packages (from tqdm>4->openai) (0.4.6)\n"
     ]
    },
    {
     "name": "stderr",
     "output_type": "stream",
     "text": [
      "\n",
      "[notice] A new release of pip is available: 23.1.2 -> 24.0\n",
      "[notice] To update, run: python.exe -m pip install --upgrade pip\n"
     ]
    },
    {
     "name": "stdout",
     "output_type": "stream",
     "text": [
      "Requirement already satisfied: PyPDF2 in c:\\users\\henloilef\\anaconda3\\envs\\ilefpfe\\lib\\site-packages (3.0.1)\n"
     ]
    },
    {
     "name": "stderr",
     "output_type": "stream",
     "text": [
      "\n",
      "[notice] A new release of pip is available: 23.1.2 -> 24.0\n",
      "[notice] To update, run: python.exe -m pip install --upgrade pip\n"
     ]
    },
    {
     "name": "stdout",
     "output_type": "stream",
     "text": [
      "Requirement already satisfied: faiss-cpu in c:\\users\\henloilef\\anaconda3\\envs\\ilefpfe\\lib\\site-packages (1.8.0)\n",
      "Requirement already satisfied: numpy in c:\\users\\henloilef\\anaconda3\\envs\\ilefpfe\\lib\\site-packages (from faiss-cpu) (1.26.4)\n"
     ]
    },
    {
     "name": "stderr",
     "output_type": "stream",
     "text": [
      "\n",
      "[notice] A new release of pip is available: 23.1.2 -> 24.0\n",
      "[notice] To update, run: python.exe -m pip install --upgrade pip\n"
     ]
    },
    {
     "name": "stdout",
     "output_type": "stream",
     "text": [
      "Requirement already satisfied: tiktoken in c:\\users\\henloilef\\anaconda3\\envs\\ilefpfe\\lib\\site-packages (0.6.0)\n",
      "Requirement already satisfied: regex>=2022.1.18 in c:\\users\\henloilef\\anaconda3\\envs\\ilefpfe\\lib\\site-packages (from tiktoken) (2023.12.25)\n",
      "Requirement already satisfied: requests>=2.26.0 in c:\\users\\henloilef\\appdata\\roaming\\python\\python311\\site-packages (from tiktoken) (2.31.0)\n",
      "Requirement already satisfied: charset-normalizer<4,>=2 in c:\\users\\henloilef\\anaconda3\\envs\\ilefpfe\\lib\\site-packages (from requests>=2.26.0->tiktoken) (3.3.2)\n",
      "Requirement already satisfied: idna<4,>=2.5 in c:\\users\\henloilef\\anaconda3\\envs\\ilefpfe\\lib\\site-packages (from requests>=2.26.0->tiktoken) (3.6)\n",
      "Requirement already satisfied: urllib3<3,>=1.21.1 in c:\\users\\henloilef\\anaconda3\\envs\\ilefpfe\\lib\\site-packages (from requests>=2.26.0->tiktoken) (1.26.18)\n",
      "Requirement already satisfied: certifi>=2017.4.17 in c:\\users\\henloilef\\anaconda3\\envs\\ilefpfe\\lib\\site-packages (from requests>=2.26.0->tiktoken) (2024.2.2)\n"
     ]
    },
    {
     "name": "stderr",
     "output_type": "stream",
     "text": [
      "\n",
      "[notice] A new release of pip is available: 23.1.2 -> 24.0\n",
      "[notice] To update, run: python.exe -m pip install --upgrade pip\n"
     ]
    },
    {
     "name": "stdout",
     "output_type": "stream",
     "text": [
      "Collecting huggingface-hub==0.14.1\n",
      "  Using cached huggingface_hub-0.14.1-py3-none-any.whl (224 kB)\n",
      "Requirement already satisfied: filelock in c:\\users\\henloilef\\anaconda3\\envs\\ilefpfe\\lib\\site-packages (from huggingface-hub==0.14.1) (3.13.1)\n",
      "Requirement already satisfied: fsspec in c:\\users\\henloilef\\anaconda3\\envs\\ilefpfe\\lib\\site-packages (from huggingface-hub==0.14.1) (2024.3.1)\n",
      "Requirement already satisfied: requests in c:\\users\\henloilef\\appdata\\roaming\\python\\python311\\site-packages (from huggingface-hub==0.14.1) (2.31.0)\n",
      "Requirement already satisfied: tqdm>=4.42.1 in c:\\users\\henloilef\\anaconda3\\envs\\ilefpfe\\lib\\site-packages (from huggingface-hub==0.14.1) (4.66.2)\n",
      "Requirement already satisfied: pyyaml>=5.1 in c:\\users\\henloilef\\anaconda3\\envs\\ilefpfe\\lib\\site-packages (from huggingface-hub==0.14.1) (6.0.1)\n",
      "Requirement already satisfied: typing-extensions>=3.7.4.3 in c:\\users\\henloilef\\anaconda3\\envs\\ilefpfe\\lib\\site-packages (from huggingface-hub==0.14.1) (4.9.0)\n",
      "Requirement already satisfied: packaging>=20.9 in c:\\users\\henloilef\\anaconda3\\envs\\ilefpfe\\lib\\site-packages (from huggingface-hub==0.14.1) (23.2)\n",
      "Requirement already satisfied: colorama in c:\\users\\henloilef\\appdata\\roaming\\python\\python311\\site-packages (from tqdm>=4.42.1->huggingface-hub==0.14.1) (0.4.6)\n",
      "Requirement already satisfied: charset-normalizer<4,>=2 in c:\\users\\henloilef\\anaconda3\\envs\\ilefpfe\\lib\\site-packages (from requests->huggingface-hub==0.14.1) (3.3.2)\n",
      "Requirement already satisfied: idna<4,>=2.5 in c:\\users\\henloilef\\anaconda3\\envs\\ilefpfe\\lib\\site-packages (from requests->huggingface-hub==0.14.1) (3.6)\n",
      "Requirement already satisfied: urllib3<3,>=1.21.1 in c:\\users\\henloilef\\anaconda3\\envs\\ilefpfe\\lib\\site-packages (from requests->huggingface-hub==0.14.1) (1.26.18)\n",
      "Requirement already satisfied: certifi>=2017.4.17 in c:\\users\\henloilef\\anaconda3\\envs\\ilefpfe\\lib\\site-packages (from requests->huggingface-hub==0.14.1) (2024.2.2)\n",
      "Installing collected packages: huggingface-hub\n",
      "  Attempting uninstall: huggingface-hub\n",
      "    Found existing installation: huggingface-hub 0.21.4\n",
      "    Uninstalling huggingface-hub-0.21.4:\n",
      "      Successfully uninstalled huggingface-hub-0.21.4\n",
      "Successfully installed huggingface-hub-0.14.1\n"
     ]
    },
    {
     "name": "stderr",
     "output_type": "stream",
     "text": [
      "ERROR: pip's dependency resolver does not currently take into account all the packages that are installed. This behaviour is the source of the following dependency conflicts.\n",
      "sentence-transformers 2.6.0 requires huggingface-hub>=0.15.1, but you have huggingface-hub 0.14.1 which is incompatible.\n",
      "tokenizers 0.15.2 requires huggingface_hub<1.0,>=0.16.4, but you have huggingface-hub 0.14.1 which is incompatible.\n",
      "transformers 4.39.1 requires huggingface-hub<1.0,>=0.19.3, but you have huggingface-hub 0.14.1 which is incompatible.\n",
      "\n",
      "[notice] A new release of pip is available: 23.1.2 -> 24.0\n",
      "[notice] To update, run: python.exe -m pip install --upgrade pip\n"
     ]
    },
    {
     "name": "stdout",
     "output_type": "stream",
     "text": [
      "Requirement already satisfied: InstructorEmbedding in c:\\users\\henloilef\\anaconda3\\envs\\ilefpfe\\lib\\site-packages (1.0.1)\n",
      "Requirement already satisfied: sentence_transformers in c:\\users\\henloilef\\anaconda3\\envs\\ilefpfe\\lib\\site-packages (2.6.0)\n",
      "Requirement already satisfied: transformers<5.0.0,>=4.32.0 in c:\\users\\henloilef\\anaconda3\\envs\\ilefpfe\\lib\\site-packages (from sentence_transformers) (4.39.1)\n",
      "Requirement already satisfied: tqdm in c:\\users\\henloilef\\anaconda3\\envs\\ilefpfe\\lib\\site-packages (from sentence_transformers) (4.66.2)\n",
      "Requirement already satisfied: torch>=1.11.0 in c:\\users\\henloilef\\anaconda3\\envs\\ilefpfe\\lib\\site-packages (from sentence_transformers) (2.2.1)\n",
      "Requirement already satisfied: numpy in c:\\users\\henloilef\\anaconda3\\envs\\ilefpfe\\lib\\site-packages (from sentence_transformers) (1.26.4)\n",
      "Requirement already satisfied: scikit-learn in c:\\users\\henloilef\\anaconda3\\envs\\ilefpfe\\lib\\site-packages (from sentence_transformers) (1.4.1.post1)\n",
      "Requirement already satisfied: scipy in c:\\users\\henloilef\\anaconda3\\envs\\ilefpfe\\lib\\site-packages (from sentence_transformers) (1.12.0)\n",
      "Collecting huggingface-hub>=0.15.1 (from sentence_transformers)\n",
      "  Using cached huggingface_hub-0.21.4-py3-none-any.whl (346 kB)\n",
      "Requirement already satisfied: Pillow in c:\\users\\henloilef\\anaconda3\\envs\\ilefpfe\\lib\\site-packages (from sentence_transformers) (10.2.0)\n",
      "Requirement already satisfied: filelock in c:\\users\\henloilef\\anaconda3\\envs\\ilefpfe\\lib\\site-packages (from huggingface-hub>=0.15.1->sentence_transformers) (3.13.1)\n",
      "Requirement already satisfied: fsspec>=2023.5.0 in c:\\users\\henloilef\\anaconda3\\envs\\ilefpfe\\lib\\site-packages (from huggingface-hub>=0.15.1->sentence_transformers) (2024.3.1)\n",
      "Requirement already satisfied: requests in c:\\users\\henloilef\\appdata\\roaming\\python\\python311\\site-packages (from huggingface-hub>=0.15.1->sentence_transformers) (2.31.0)\n",
      "Requirement already satisfied: pyyaml>=5.1 in c:\\users\\henloilef\\anaconda3\\envs\\ilefpfe\\lib\\site-packages (from huggingface-hub>=0.15.1->sentence_transformers) (6.0.1)\n",
      "Requirement already satisfied: typing-extensions>=3.7.4.3 in c:\\users\\henloilef\\anaconda3\\envs\\ilefpfe\\lib\\site-packages (from huggingface-hub>=0.15.1->sentence_transformers) (4.9.0)\n",
      "Requirement already satisfied: packaging>=20.9 in c:\\users\\henloilef\\anaconda3\\envs\\ilefpfe\\lib\\site-packages (from huggingface-hub>=0.15.1->sentence_transformers) (23.2)\n",
      "Requirement already satisfied: sympy in c:\\users\\henloilef\\anaconda3\\envs\\ilefpfe\\lib\\site-packages (from torch>=1.11.0->sentence_transformers) (1.12)\n",
      "Requirement already satisfied: networkx in c:\\users\\henloilef\\anaconda3\\envs\\ilefpfe\\lib\\site-packages (from torch>=1.11.0->sentence_transformers) (3.2.1)\n",
      "Requirement already satisfied: jinja2 in c:\\users\\henloilef\\anaconda3\\envs\\ilefpfe\\lib\\site-packages (from torch>=1.11.0->sentence_transformers) (3.1.3)\n",
      "Requirement already satisfied: colorama in c:\\users\\henloilef\\appdata\\roaming\\python\\python311\\site-packages (from tqdm->sentence_transformers) (0.4.6)\n",
      "Requirement already satisfied: regex!=2019.12.17 in c:\\users\\henloilef\\anaconda3\\envs\\ilefpfe\\lib\\site-packages (from transformers<5.0.0,>=4.32.0->sentence_transformers) (2023.12.25)\n",
      "Requirement already satisfied: tokenizers<0.19,>=0.14 in c:\\users\\henloilef\\anaconda3\\envs\\ilefpfe\\lib\\site-packages (from transformers<5.0.0,>=4.32.0->sentence_transformers) (0.15.2)\n",
      "Requirement already satisfied: safetensors>=0.4.1 in c:\\users\\henloilef\\anaconda3\\envs\\ilefpfe\\lib\\site-packages (from transformers<5.0.0,>=4.32.0->sentence_transformers) (0.4.2)\n",
      "Requirement already satisfied: joblib>=1.2.0 in c:\\users\\henloilef\\anaconda3\\envs\\ilefpfe\\lib\\site-packages (from scikit-learn->sentence_transformers) (1.3.2)\n",
      "Requirement already satisfied: threadpoolctl>=2.0.0 in c:\\users\\henloilef\\anaconda3\\envs\\ilefpfe\\lib\\site-packages (from scikit-learn->sentence_transformers) (3.4.0)\n",
      "Requirement already satisfied: MarkupSafe>=2.0 in c:\\users\\henloilef\\anaconda3\\envs\\ilefpfe\\lib\\site-packages (from jinja2->torch>=1.11.0->sentence_transformers) (2.1.5)\n",
      "Requirement already satisfied: charset-normalizer<4,>=2 in c:\\users\\henloilef\\anaconda3\\envs\\ilefpfe\\lib\\site-packages (from requests->huggingface-hub>=0.15.1->sentence_transformers) (3.3.2)\n",
      "Requirement already satisfied: idna<4,>=2.5 in c:\\users\\henloilef\\anaconda3\\envs\\ilefpfe\\lib\\site-packages (from requests->huggingface-hub>=0.15.1->sentence_transformers) (3.6)\n",
      "Requirement already satisfied: urllib3<3,>=1.21.1 in c:\\users\\henloilef\\anaconda3\\envs\\ilefpfe\\lib\\site-packages (from requests->huggingface-hub>=0.15.1->sentence_transformers) (1.26.18)\n",
      "Requirement already satisfied: certifi>=2017.4.17 in c:\\users\\henloilef\\anaconda3\\envs\\ilefpfe\\lib\\site-packages (from requests->huggingface-hub>=0.15.1->sentence_transformers) (2024.2.2)\n",
      "Requirement already satisfied: mpmath>=0.19 in c:\\users\\henloilef\\anaconda3\\envs\\ilefpfe\\lib\\site-packages (from sympy->torch>=1.11.0->sentence_transformers) (1.3.0)\n",
      "Installing collected packages: huggingface-hub\n",
      "  Attempting uninstall: huggingface-hub\n",
      "    Found existing installation: huggingface-hub 0.14.1\n",
      "    Uninstalling huggingface-hub-0.14.1:\n",
      "      Successfully uninstalled huggingface-hub-0.14.1\n",
      "Successfully installed huggingface-hub-0.21.4\n"
     ]
    },
    {
     "name": "stderr",
     "output_type": "stream",
     "text": [
      "\n",
      "[notice] A new release of pip is available: 23.1.2 -> 24.0\n",
      "[notice] To update, run: python.exe -m pip install --upgrade pip\n"
     ]
    },
    {
     "name": "stdout",
     "output_type": "stream",
     "text": [
      "Requirement already satisfied: google-generativeai in c:\\users\\henloilef\\anaconda3\\envs\\ilefpfe\\lib\\site-packages (0.4.1)\n",
      "Requirement already satisfied: google-ai-generativelanguage==0.4.0 in c:\\users\\henloilef\\anaconda3\\envs\\ilefpfe\\lib\\site-packages (from google-generativeai) (0.4.0)\n",
      "Requirement already satisfied: google-auth>=2.15.0 in c:\\users\\henloilef\\anaconda3\\envs\\ilefpfe\\lib\\site-packages (from google-generativeai) (2.29.0)\n",
      "Requirement already satisfied: google-api-core in c:\\users\\henloilef\\anaconda3\\envs\\ilefpfe\\lib\\site-packages (from google-generativeai) (2.18.0)\n",
      "Requirement already satisfied: protobuf in c:\\users\\henloilef\\anaconda3\\envs\\ilefpfe\\lib\\site-packages (from google-generativeai) (4.25.3)\n",
      "Requirement already satisfied: pydantic in c:\\users\\henloilef\\anaconda3\\envs\\ilefpfe\\lib\\site-packages (from google-generativeai) (1.10.14)\n",
      "Requirement already satisfied: tqdm in c:\\users\\henloilef\\anaconda3\\envs\\ilefpfe\\lib\\site-packages (from google-generativeai) (4.66.2)\n",
      "Requirement already satisfied: typing-extensions in c:\\users\\henloilef\\anaconda3\\envs\\ilefpfe\\lib\\site-packages (from google-generativeai) (4.9.0)\n",
      "Requirement already satisfied: proto-plus<2.0.0dev,>=1.22.3 in c:\\users\\henloilef\\anaconda3\\envs\\ilefpfe\\lib\\site-packages (from google-ai-generativelanguage==0.4.0->google-generativeai) (1.23.0)\n",
      "Requirement already satisfied: cachetools<6.0,>=2.0.0 in c:\\users\\henloilef\\appdata\\roaming\\python\\python311\\site-packages (from google-auth>=2.15.0->google-generativeai) (5.3.3)\n",
      "Requirement already satisfied: pyasn1-modules>=0.2.1 in c:\\users\\henloilef\\anaconda3\\envs\\ilefpfe\\lib\\site-packages (from google-auth>=2.15.0->google-generativeai) (0.3.0)\n",
      "Requirement already satisfied: rsa<5,>=3.1.4 in c:\\users\\henloilef\\anaconda3\\envs\\ilefpfe\\lib\\site-packages (from google-auth>=2.15.0->google-generativeai) (4.9)\n",
      "Requirement already satisfied: googleapis-common-protos<2.0.dev0,>=1.56.2 in c:\\users\\henloilef\\anaconda3\\envs\\ilefpfe\\lib\\site-packages (from google-api-core->google-generativeai) (1.63.0)\n",
      "Requirement already satisfied: requests<3.0.0.dev0,>=2.18.0 in c:\\users\\henloilef\\appdata\\roaming\\python\\python311\\site-packages (from google-api-core->google-generativeai) (2.31.0)\n",
      "Requirement already satisfied: colorama in c:\\users\\henloilef\\appdata\\roaming\\python\\python311\\site-packages (from tqdm->google-generativeai) (0.4.6)\n",
      "Requirement already satisfied: grpcio<2.0dev,>=1.33.2 in c:\\users\\henloilef\\anaconda3\\envs\\ilefpfe\\lib\\site-packages (from google-api-core->google-generativeai) (1.62.1)\n",
      "Requirement already satisfied: grpcio-status<2.0.dev0,>=1.33.2 in c:\\users\\henloilef\\anaconda3\\envs\\ilefpfe\\lib\\site-packages (from google-api-core->google-generativeai) (1.62.1)\n",
      "Requirement already satisfied: pyasn1<0.6.0,>=0.4.6 in c:\\users\\henloilef\\anaconda3\\envs\\ilefpfe\\lib\\site-packages (from pyasn1-modules>=0.2.1->google-auth>=2.15.0->google-generativeai) (0.5.1)\n",
      "Requirement already satisfied: charset-normalizer<4,>=2 in c:\\users\\henloilef\\anaconda3\\envs\\ilefpfe\\lib\\site-packages (from requests<3.0.0.dev0,>=2.18.0->google-api-core->google-generativeai) (3.3.2)\n",
      "Requirement already satisfied: idna<4,>=2.5 in c:\\users\\henloilef\\anaconda3\\envs\\ilefpfe\\lib\\site-packages (from requests<3.0.0.dev0,>=2.18.0->google-api-core->google-generativeai) (3.6)\n",
      "Requirement already satisfied: urllib3<3,>=1.21.1 in c:\\users\\henloilef\\anaconda3\\envs\\ilefpfe\\lib\\site-packages (from requests<3.0.0.dev0,>=2.18.0->google-api-core->google-generativeai) (1.26.18)\n",
      "Requirement already satisfied: certifi>=2017.4.17 in c:\\users\\henloilef\\anaconda3\\envs\\ilefpfe\\lib\\site-packages (from requests<3.0.0.dev0,>=2.18.0->google-api-core->google-generativeai) (2024.2.2)\n"
     ]
    },
    {
     "name": "stderr",
     "output_type": "stream",
     "text": [
      "\n",
      "[notice] A new release of pip is available: 23.1.2 -> 24.0\n",
      "[notice] To update, run: python.exe -m pip install --upgrade pip\n"
     ]
    },
    {
     "name": "stdout",
     "output_type": "stream",
     "text": [
      "Requirement already satisfied: langchain_google_genai in c:\\users\\henloilef\\anaconda3\\envs\\ilefpfe\\lib\\site-packages (0.0.11)\n",
      "Requirement already satisfied: google-generativeai<0.5.0,>=0.4.1 in c:\\users\\henloilef\\anaconda3\\envs\\ilefpfe\\lib\\site-packages (from langchain_google_genai) (0.4.1)\n",
      "Requirement already satisfied: langchain-core<0.2,>=0.1 in c:\\users\\henloilef\\anaconda3\\envs\\ilefpfe\\lib\\site-packages (from langchain_google_genai) (0.1.33)\n",
      "Requirement already satisfied: google-ai-generativelanguage==0.4.0 in c:\\users\\henloilef\\anaconda3\\envs\\ilefpfe\\lib\\site-packages (from google-generativeai<0.5.0,>=0.4.1->langchain_google_genai) (0.4.0)\n",
      "Requirement already satisfied: google-auth>=2.15.0 in c:\\users\\henloilef\\anaconda3\\envs\\ilefpfe\\lib\\site-packages (from google-generativeai<0.5.0,>=0.4.1->langchain_google_genai) (2.29.0)\n",
      "Requirement already satisfied: google-api-core in c:\\users\\henloilef\\anaconda3\\envs\\ilefpfe\\lib\\site-packages (from google-generativeai<0.5.0,>=0.4.1->langchain_google_genai) (2.18.0)\n",
      "Requirement already satisfied: protobuf in c:\\users\\henloilef\\anaconda3\\envs\\ilefpfe\\lib\\site-packages (from google-generativeai<0.5.0,>=0.4.1->langchain_google_genai) (4.25.3)\n",
      "Requirement already satisfied: pydantic in c:\\users\\henloilef\\anaconda3\\envs\\ilefpfe\\lib\\site-packages (from google-generativeai<0.5.0,>=0.4.1->langchain_google_genai) (1.10.14)\n",
      "Requirement already satisfied: tqdm in c:\\users\\henloilef\\anaconda3\\envs\\ilefpfe\\lib\\site-packages (from google-generativeai<0.5.0,>=0.4.1->langchain_google_genai) (4.66.2)\n",
      "Requirement already satisfied: typing-extensions in c:\\users\\henloilef\\anaconda3\\envs\\ilefpfe\\lib\\site-packages (from google-generativeai<0.5.0,>=0.4.1->langchain_google_genai) (4.9.0)\n",
      "Requirement already satisfied: proto-plus<2.0.0dev,>=1.22.3 in c:\\users\\henloilef\\anaconda3\\envs\\ilefpfe\\lib\\site-packages (from google-ai-generativelanguage==0.4.0->google-generativeai<0.5.0,>=0.4.1->langchain_google_genai) (1.23.0)\n",
      "Requirement already satisfied: PyYAML>=5.3 in c:\\users\\henloilef\\anaconda3\\envs\\ilefpfe\\lib\\site-packages (from langchain-core<0.2,>=0.1->langchain_google_genai) (6.0.1)\n",
      "Requirement already satisfied: anyio<5,>=3 in c:\\users\\henloilef\\anaconda3\\envs\\ilefpfe\\lib\\site-packages (from langchain-core<0.2,>=0.1->langchain_google_genai) (4.3.0)\n",
      "Requirement already satisfied: jsonpatch<2.0,>=1.33 in c:\\users\\henloilef\\appdata\\roaming\\python\\python311\\site-packages (from langchain-core<0.2,>=0.1->langchain_google_genai) (1.33)\n",
      "Requirement already satisfied: langsmith<0.2.0,>=0.1.0 in c:\\users\\henloilef\\anaconda3\\envs\\ilefpfe\\lib\\site-packages (from langchain-core<0.2,>=0.1->langchain_google_genai) (0.1.31)\n",
      "Requirement already satisfied: packaging<24.0,>=23.2 in c:\\users\\henloilef\\anaconda3\\envs\\ilefpfe\\lib\\site-packages (from langchain-core<0.2,>=0.1->langchain_google_genai) (23.2)\n",
      "Requirement already satisfied: requests<3,>=2 in c:\\users\\henloilef\\appdata\\roaming\\python\\python311\\site-packages (from langchain-core<0.2,>=0.1->langchain_google_genai) (2.31.0)\n",
      "Requirement already satisfied: tenacity<9.0.0,>=8.1.0 in c:\\users\\henloilef\\anaconda3\\envs\\ilefpfe\\lib\\site-packages (from langchain-core<0.2,>=0.1->langchain_google_genai) (8.2.3)\n",
      "Requirement already satisfied: idna>=2.8 in c:\\users\\henloilef\\anaconda3\\envs\\ilefpfe\\lib\\site-packages (from anyio<5,>=3->langchain-core<0.2,>=0.1->langchain_google_genai) (3.6)\n",
      "Requirement already satisfied: sniffio>=1.1 in c:\\users\\henloilef\\anaconda3\\envs\\ilefpfe\\lib\\site-packages (from anyio<5,>=3->langchain-core<0.2,>=0.1->langchain_google_genai) (1.3.1)\n",
      "Requirement already satisfied: cachetools<6.0,>=2.0.0 in c:\\users\\henloilef\\appdata\\roaming\\python\\python311\\site-packages (from google-auth>=2.15.0->google-generativeai<0.5.0,>=0.4.1->langchain_google_genai) (5.3.3)\n",
      "Requirement already satisfied: pyasn1-modules>=0.2.1 in c:\\users\\henloilef\\anaconda3\\envs\\ilefpfe\\lib\\site-packages (from google-auth>=2.15.0->google-generativeai<0.5.0,>=0.4.1->langchain_google_genai) (0.3.0)\n",
      "Requirement already satisfied: rsa<5,>=3.1.4 in c:\\users\\henloilef\\anaconda3\\envs\\ilefpfe\\lib\\site-packages (from google-auth>=2.15.0->google-generativeai<0.5.0,>=0.4.1->langchain_google_genai) (4.9)\n",
      "Requirement already satisfied: jsonpointer>=1.9 in c:\\users\\henloilef\\anaconda3\\envs\\ilefpfe\\lib\\site-packages (from jsonpatch<2.0,>=1.33->langchain-core<0.2,>=0.1->langchain_google_genai) (2.4)\n",
      "Requirement already satisfied: orjson<4.0.0,>=3.9.14 in c:\\users\\henloilef\\anaconda3\\envs\\ilefpfe\\lib\\site-packages (from langsmith<0.2.0,>=0.1.0->langchain-core<0.2,>=0.1->langchain_google_genai) (3.9.15)\n",
      "Requirement already satisfied: charset-normalizer<4,>=2 in c:\\users\\henloilef\\anaconda3\\envs\\ilefpfe\\lib\\site-packages (from requests<3,>=2->langchain-core<0.2,>=0.1->langchain_google_genai) (3.3.2)\n",
      "Requirement already satisfied: urllib3<3,>=1.21.1 in c:\\users\\henloilef\\anaconda3\\envs\\ilefpfe\\lib\\site-packages (from requests<3,>=2->langchain-core<0.2,>=0.1->langchain_google_genai) (1.26.18)\n",
      "Requirement already satisfied: certifi>=2017.4.17 in c:\\users\\henloilef\\anaconda3\\envs\\ilefpfe\\lib\\site-packages (from requests<3,>=2->langchain-core<0.2,>=0.1->langchain_google_genai) (2024.2.2)\n",
      "Requirement already satisfied: googleapis-common-protos<2.0.dev0,>=1.56.2 in c:\\users\\henloilef\\anaconda3\\envs\\ilefpfe\\lib\\site-packages (from google-api-core->google-generativeai<0.5.0,>=0.4.1->langchain_google_genai) (1.63.0)\n",
      "Requirement already satisfied: colorama in c:\\users\\henloilef\\appdata\\roaming\\python\\python311\\site-packages (from tqdm->google-generativeai<0.5.0,>=0.4.1->langchain_google_genai) (0.4.6)\n",
      "Requirement already satisfied: grpcio<2.0dev,>=1.33.2 in c:\\users\\henloilef\\anaconda3\\envs\\ilefpfe\\lib\\site-packages (from google-api-core->google-generativeai<0.5.0,>=0.4.1->langchain_google_genai) (1.62.1)\n",
      "Requirement already satisfied: grpcio-status<2.0.dev0,>=1.33.2 in c:\\users\\henloilef\\anaconda3\\envs\\ilefpfe\\lib\\site-packages (from google-api-core->google-generativeai<0.5.0,>=0.4.1->langchain_google_genai) (1.62.1)\n",
      "Requirement already satisfied: pyasn1<0.6.0,>=0.4.6 in c:\\users\\henloilef\\anaconda3\\envs\\ilefpfe\\lib\\site-packages (from pyasn1-modules>=0.2.1->google-auth>=2.15.0->google-generativeai<0.5.0,>=0.4.1->langchain_google_genai) (0.5.1)\n"
     ]
    },
    {
     "name": "stderr",
     "output_type": "stream",
     "text": [
      "\n",
      "[notice] A new release of pip is available: 23.1.2 -> 24.0\n",
      "[notice] To update, run: python.exe -m pip install --upgrade pip\n"
     ]
    }
   ],
   "source": [
    "!pip install openai\n",
    "!pip install PyPDF2\n",
    "!pip install faiss-cpu\n",
    "!pip install tiktoken\n",
    "!pip install huggingface-hub==0.14.1\n",
    "!pip install InstructorEmbedding sentence_transformers\n",
    "!pip install google-generativeai\n",
    "!pip install langchain_google_genai"
   ]
  },
  {
   "cell_type": "code",
   "execution_count": 11,
   "id": "6bc4b7ad-ee3f-475d-8ec7-1d9a522816b6",
   "metadata": {},
   "outputs": [
    {
     "name": "stdout",
     "output_type": "stream",
     "text": [
      "Note: you may need to restart the kernel to use updated packages.\n"
     ]
    },
    {
     "name": "stderr",
     "output_type": "stream",
     "text": [
      "ERROR: Could not find a version that satisfies the requirement exceptions (from versions: none)\n",
      "ERROR: No matching distribution found for exceptions\n",
      "\n",
      "[notice] A new release of pip is available: 23.1.2 -> 24.0\n",
      "[notice] To update, run: C:\\Users\\henloIlef\\anaconda3\\python.exe -m pip install --upgrade pip\n"
     ]
    }
   ],
   "source": [
    "pip install exceptions"
   ]
  },
  {
   "cell_type": "code",
   "execution_count": 10,
   "id": "20fd6131-8bc5-4be8-ad8b-1707228b0113",
   "metadata": {},
   "outputs": [
    {
     "name": "stderr",
     "output_type": "stream",
     "text": [
      "Error loading file D:\\HenloIlef\\2K24\\Internship\\app\\chatbot\\allLocal\\Analyse des modes de réalisation des stations de dessalement d'eau en PPP.docx\n"
     ]
    },
    {
     "ename": "ModuleNotFoundError",
     "evalue": "No module named 'exceptions'",
     "output_type": "error",
     "traceback": [
      "\u001b[1;31m---------------------------------------------------------------------------\u001b[0m",
      "\u001b[1;31mModuleNotFoundError\u001b[0m                       Traceback (most recent call last)",
      "Cell \u001b[1;32mIn[10], line 7\u001b[0m\n\u001b[0;32m      5\u001b[0m text_loader_kwargs\u001b[38;5;241m=\u001b[39m{\u001b[38;5;124m'\u001b[39m\u001b[38;5;124mautodetect_encoding\u001b[39m\u001b[38;5;124m'\u001b[39m: \u001b[38;5;28;01mTrue\u001b[39;00m}\n\u001b[0;32m      6\u001b[0m loader \u001b[38;5;241m=\u001b[39m DirectoryLoader(folder_path, glob\u001b[38;5;241m=\u001b[39m\u001b[38;5;124m\"\u001b[39m\u001b[38;5;124m*.docx\u001b[39m\u001b[38;5;124m\"\u001b[39m, loader_cls\u001b[38;5;241m=\u001b[39mUnstructuredWordDocumentLoader, loader_kwargs\u001b[38;5;241m=\u001b[39mtext_loader_kwargs)\n\u001b[1;32m----> 7\u001b[0m txt_documents \u001b[38;5;241m=\u001b[39m \u001b[43mloader\u001b[49m\u001b[38;5;241;43m.\u001b[39;49m\u001b[43mload\u001b[49m\u001b[43m(\u001b[49m\u001b[43m)\u001b[49m\n\u001b[0;32m      8\u001b[0m \u001b[38;5;28mprint\u001b[39m(txt_documents)\n",
      "File \u001b[1;32m~\\anaconda3\\Lib\\site-packages\\langchain_community\\document_loaders\\directory.py:194\u001b[0m, in \u001b[0;36mDirectoryLoader.load\u001b[1;34m(self)\u001b[0m\n\u001b[0;32m    192\u001b[0m \u001b[38;5;28;01melse\u001b[39;00m:\n\u001b[0;32m    193\u001b[0m     \u001b[38;5;28;01mfor\u001b[39;00m i \u001b[38;5;129;01min\u001b[39;00m items:\n\u001b[1;32m--> 194\u001b[0m         \u001b[38;5;28;43mself\u001b[39;49m\u001b[38;5;241;43m.\u001b[39;49m\u001b[43mload_file\u001b[49m\u001b[43m(\u001b[49m\u001b[43mi\u001b[49m\u001b[43m,\u001b[49m\u001b[43m \u001b[49m\u001b[43mp\u001b[49m\u001b[43m,\u001b[49m\u001b[43m \u001b[49m\u001b[43mdocs\u001b[49m\u001b[43m,\u001b[49m\u001b[43m \u001b[49m\u001b[43mpbar\u001b[49m\u001b[43m)\u001b[49m\n\u001b[0;32m    196\u001b[0m \u001b[38;5;28;01mif\u001b[39;00m pbar:\n\u001b[0;32m    197\u001b[0m     pbar\u001b[38;5;241m.\u001b[39mclose()\n",
      "File \u001b[1;32m~\\anaconda3\\Lib\\site-packages\\langchain_community\\document_loaders\\directory.py:137\u001b[0m, in \u001b[0;36mDirectoryLoader.load_file\u001b[1;34m(self, item, path, docs, pbar)\u001b[0m\n\u001b[0;32m    135\u001b[0m     \u001b[38;5;28;01melse\u001b[39;00m:\n\u001b[0;32m    136\u001b[0m         logger\u001b[38;5;241m.\u001b[39merror(\u001b[38;5;124mf\u001b[39m\u001b[38;5;124m\"\u001b[39m\u001b[38;5;124mError loading file \u001b[39m\u001b[38;5;132;01m{\u001b[39;00m\u001b[38;5;28mstr\u001b[39m(item)\u001b[38;5;132;01m}\u001b[39;00m\u001b[38;5;124m\"\u001b[39m)\n\u001b[1;32m--> 137\u001b[0m         \u001b[38;5;28;01mraise\u001b[39;00m e\n\u001b[0;32m    138\u001b[0m \u001b[38;5;28;01mfinally\u001b[39;00m:\n\u001b[0;32m    139\u001b[0m     \u001b[38;5;28;01mif\u001b[39;00m pbar:\n",
      "File \u001b[1;32m~\\anaconda3\\Lib\\site-packages\\langchain_community\\document_loaders\\directory.py:130\u001b[0m, in \u001b[0;36mDirectoryLoader.load_file\u001b[1;34m(self, item, path, docs, pbar)\u001b[0m\n\u001b[0;32m    128\u001b[0m \u001b[38;5;28;01mtry\u001b[39;00m:\n\u001b[0;32m    129\u001b[0m     logger\u001b[38;5;241m.\u001b[39mdebug(\u001b[38;5;124mf\u001b[39m\u001b[38;5;124m\"\u001b[39m\u001b[38;5;124mProcessing file: \u001b[39m\u001b[38;5;132;01m{\u001b[39;00m\u001b[38;5;28mstr\u001b[39m(item)\u001b[38;5;132;01m}\u001b[39;00m\u001b[38;5;124m\"\u001b[39m)\n\u001b[1;32m--> 130\u001b[0m     sub_docs \u001b[38;5;241m=\u001b[39m \u001b[38;5;28;43mself\u001b[39;49m\u001b[38;5;241;43m.\u001b[39;49m\u001b[43mloader_cls\u001b[49m\u001b[43m(\u001b[49m\u001b[38;5;28;43mstr\u001b[39;49m\u001b[43m(\u001b[49m\u001b[43mitem\u001b[49m\u001b[43m)\u001b[49m\u001b[43m,\u001b[49m\u001b[43m \u001b[49m\u001b[38;5;241;43m*\u001b[39;49m\u001b[38;5;241;43m*\u001b[39;49m\u001b[38;5;28;43mself\u001b[39;49m\u001b[38;5;241;43m.\u001b[39;49m\u001b[43mloader_kwargs\u001b[49m\u001b[43m)\u001b[49m\u001b[38;5;241;43m.\u001b[39;49m\u001b[43mload\u001b[49m\u001b[43m(\u001b[49m\u001b[43m)\u001b[49m\n\u001b[0;32m    131\u001b[0m     docs\u001b[38;5;241m.\u001b[39mextend(sub_docs)\n\u001b[0;32m    132\u001b[0m \u001b[38;5;28;01mexcept\u001b[39;00m \u001b[38;5;167;01mException\u001b[39;00m \u001b[38;5;28;01mas\u001b[39;00m e:\n",
      "File \u001b[1;32m~\\anaconda3\\Lib\\site-packages\\langchain_core\\document_loaders\\base.py:29\u001b[0m, in \u001b[0;36mBaseLoader.load\u001b[1;34m(self)\u001b[0m\n\u001b[0;32m     27\u001b[0m \u001b[38;5;28;01mdef\u001b[39;00m \u001b[38;5;21mload\u001b[39m(\u001b[38;5;28mself\u001b[39m) \u001b[38;5;241m-\u001b[39m\u001b[38;5;241m>\u001b[39m List[Document]:\n\u001b[0;32m     28\u001b[0m \u001b[38;5;250m    \u001b[39m\u001b[38;5;124;03m\"\"\"Load data into Document objects.\"\"\"\u001b[39;00m\n\u001b[1;32m---> 29\u001b[0m     \u001b[38;5;28;01mreturn\u001b[39;00m \u001b[38;5;28;43mlist\u001b[39;49m\u001b[43m(\u001b[49m\u001b[38;5;28;43mself\u001b[39;49m\u001b[38;5;241;43m.\u001b[39;49m\u001b[43mlazy_load\u001b[49m\u001b[43m(\u001b[49m\u001b[43m)\u001b[49m\u001b[43m)\u001b[49m\n",
      "File \u001b[1;32m~\\anaconda3\\Lib\\site-packages\\langchain_community\\document_loaders\\unstructured.py:87\u001b[0m, in \u001b[0;36mUnstructuredBaseLoader.lazy_load\u001b[1;34m(self)\u001b[0m\n\u001b[0;32m     85\u001b[0m \u001b[38;5;28;01mdef\u001b[39;00m \u001b[38;5;21mlazy_load\u001b[39m(\u001b[38;5;28mself\u001b[39m) \u001b[38;5;241m-\u001b[39m\u001b[38;5;241m>\u001b[39m Iterator[Document]:\n\u001b[0;32m     86\u001b[0m \u001b[38;5;250m    \u001b[39m\u001b[38;5;124;03m\"\"\"Load file.\"\"\"\u001b[39;00m\n\u001b[1;32m---> 87\u001b[0m     elements \u001b[38;5;241m=\u001b[39m \u001b[38;5;28;43mself\u001b[39;49m\u001b[38;5;241;43m.\u001b[39;49m\u001b[43m_get_elements\u001b[49m\u001b[43m(\u001b[49m\u001b[43m)\u001b[49m\n\u001b[0;32m     88\u001b[0m     \u001b[38;5;28mself\u001b[39m\u001b[38;5;241m.\u001b[39m_post_process_elements(elements)\n\u001b[0;32m     89\u001b[0m     \u001b[38;5;28;01mif\u001b[39;00m \u001b[38;5;28mself\u001b[39m\u001b[38;5;241m.\u001b[39mmode \u001b[38;5;241m==\u001b[39m \u001b[38;5;124m\"\u001b[39m\u001b[38;5;124melements\u001b[39m\u001b[38;5;124m\"\u001b[39m:\n",
      "File \u001b[1;32m~\\anaconda3\\Lib\\site-packages\\langchain_community\\document_loaders\\word_document.py:122\u001b[0m, in \u001b[0;36mUnstructuredWordDocumentLoader._get_elements\u001b[1;34m(self)\u001b[0m\n\u001b[0;32m    120\u001b[0m     \u001b[38;5;28;01mreturn\u001b[39;00m partition_doc(filename\u001b[38;5;241m=\u001b[39m\u001b[38;5;28mself\u001b[39m\u001b[38;5;241m.\u001b[39mfile_path, \u001b[38;5;241m*\u001b[39m\u001b[38;5;241m*\u001b[39m\u001b[38;5;28mself\u001b[39m\u001b[38;5;241m.\u001b[39munstructured_kwargs)\n\u001b[0;32m    121\u001b[0m \u001b[38;5;28;01melse\u001b[39;00m:\n\u001b[1;32m--> 122\u001b[0m     \u001b[38;5;28;01mfrom\u001b[39;00m \u001b[38;5;21;01munstructured\u001b[39;00m\u001b[38;5;21;01m.\u001b[39;00m\u001b[38;5;21;01mpartition\u001b[39;00m\u001b[38;5;21;01m.\u001b[39;00m\u001b[38;5;21;01mdocx\u001b[39;00m \u001b[38;5;28;01mimport\u001b[39;00m partition_docx\n\u001b[0;32m    124\u001b[0m     \u001b[38;5;28;01mreturn\u001b[39;00m partition_docx(filename\u001b[38;5;241m=\u001b[39m\u001b[38;5;28mself\u001b[39m\u001b[38;5;241m.\u001b[39mfile_path, \u001b[38;5;241m*\u001b[39m\u001b[38;5;241m*\u001b[39m\u001b[38;5;28mself\u001b[39m\u001b[38;5;241m.\u001b[39munstructured_kwargs)\n",
      "File \u001b[1;32m~\\anaconda3\\Lib\\site-packages\\unstructured\\partition\\docx.py:25\u001b[0m\n\u001b[0;32m     11\u001b[0m \u001b[38;5;28;01mfrom\u001b[39;00m \u001b[38;5;21;01mtyping\u001b[39;00m \u001b[38;5;28;01mimport\u001b[39;00m (\n\u001b[0;32m     12\u001b[0m     IO,\n\u001b[0;32m     13\u001b[0m     Any,\n\u001b[1;32m   (...)\u001b[0m\n\u001b[0;32m     21\u001b[0m     cast,\n\u001b[0;32m     22\u001b[0m )\n\u001b[0;32m     24\u001b[0m \u001b[38;5;66;03m# -- CT_* stands for \"complex-type\", an XML element type in docx parlance --\u001b[39;00m\n\u001b[1;32m---> 25\u001b[0m \u001b[38;5;28;01mimport\u001b[39;00m \u001b[38;5;21;01mdocx\u001b[39;00m\n\u001b[0;32m     26\u001b[0m \u001b[38;5;28;01mfrom\u001b[39;00m \u001b[38;5;21;01mdocx\u001b[39;00m\u001b[38;5;21;01m.\u001b[39;00m\u001b[38;5;21;01mdocument\u001b[39;00m \u001b[38;5;28;01mimport\u001b[39;00m Document\n\u001b[0;32m     27\u001b[0m \u001b[38;5;28;01mfrom\u001b[39;00m \u001b[38;5;21;01mdocx\u001b[39;00m\u001b[38;5;21;01m.\u001b[39;00m\u001b[38;5;21;01menum\u001b[39;00m\u001b[38;5;21;01m.\u001b[39;00m\u001b[38;5;21;01msection\u001b[39;00m \u001b[38;5;28;01mimport\u001b[39;00m WD_SECTION_START\n",
      "File \u001b[1;32m~\\anaconda3\\Lib\\site-packages\\docx.py:30\u001b[0m\n\u001b[0;32m     27\u001b[0m \u001b[38;5;28;01mexcept\u001b[39;00m \u001b[38;5;167;01mImportError\u001b[39;00m:\n\u001b[0;32m     28\u001b[0m     TAGS \u001b[38;5;241m=\u001b[39m {}\n\u001b[1;32m---> 30\u001b[0m \u001b[38;5;28;01mfrom\u001b[39;00m \u001b[38;5;21;01mexceptions\u001b[39;00m \u001b[38;5;28;01mimport\u001b[39;00m \u001b[38;5;167;01mPendingDeprecationWarning\u001b[39;00m\n\u001b[0;32m     31\u001b[0m \u001b[38;5;28;01mfrom\u001b[39;00m \u001b[38;5;21;01mwarnings\u001b[39;00m \u001b[38;5;28;01mimport\u001b[39;00m warn\n\u001b[0;32m     33\u001b[0m \u001b[38;5;28;01mimport\u001b[39;00m \u001b[38;5;21;01mlogging\u001b[39;00m\n",
      "\u001b[1;31mModuleNotFoundError\u001b[0m: No module named 'exceptions'"
     ]
    }
   ],
   "source": [
    "from langchain.document_loaders import DirectoryLoader\n",
    "from langchain.document_loaders import UnstructuredWordDocumentLoader\n",
    "\n",
    "folder_path=\"D:/HenloIlef/2K24/Internship/app/chatbot/allLocal\"\n",
    "text_loader_kwargs={'autodetect_encoding': True}\n",
    "loader = DirectoryLoader(folder_path, glob=\"*.docx\", loader_cls=UnstructuredWordDocumentLoader, loader_kwargs=text_loader_kwargs)\n",
    "txt_documents = loader.load()\n",
    "print(txt_documents)"
   ]
  }
 ],
 "metadata": {
  "kernelspec": {
   "display_name": "Python 3 (ipykernel)",
   "language": "python",
   "name": "python3"
  },
  "language_info": {
   "codemirror_mode": {
    "name": "ipython",
    "version": 3
   },
   "file_extension": ".py",
   "mimetype": "text/x-python",
   "name": "python",
   "nbconvert_exporter": "python",
   "pygments_lexer": "ipython3",
   "version": "3.11.7"
  }
 },
 "nbformat": 4,
 "nbformat_minor": 5
}
